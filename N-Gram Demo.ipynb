{
 "cells": [
  {
   "cell_type": "markdown",
   "id": "9cde2ca5",
   "metadata": {},
   "source": [
    "# N-Gram Demo\n",
    "\n",
    "In the following, we define a simple bigram language model and train it with English phonetic transcriptions taken from [WOLD](https://github.com/lexibank/wold). "
   ]
  },
  {
   "cell_type": "code",
   "execution_count": 3,
   "id": "93ef419c",
   "metadata": {},
   "outputs": [],
   "source": [
    "from collections import defaultdict\n",
    "from random import choice\n",
    "from lingpy import Wordlist\n",
    "\n",
    "wl = Wordlist.from_cldf(\"wold/cldf/cldf-metadata.json\")\n",
    "words = [tokens for tokens in wl.get_list(col=\"English\", flat=True, entry=\"tokens\")]\n",
    "\n",
    "model = defaultdict(list)\n",
    "for w in words:\n",
    "    bigrams = [\"^\"]+list(zip([\"^\"]+w, w+[\"$\"]))+[\"$\"]\n",
    "    for i in range(len(bigrams)-1):\n",
    "        model[bigrams[i]] += [bigrams[i+1]]"
   ]
  },
  {
   "cell_type": "markdown",
   "id": "864b3f3d",
   "metadata": {},
   "source": [
    "Having done this, we need a function to \"walk\" through the Markov chain in order to yield a random sequence. We start from our start symbol `^` and walk until we reach the end symbol `$`."
   ]
  },
  {
   "cell_type": "code",
   "execution_count": 4,
   "id": "5fc385a8",
   "metadata": {},
   "outputs": [],
   "source": [
    "def walk(model):\n",
    "    current_char = \"^\"\n",
    "    word = []\n",
    "    while True:\n",
    "        next_char = choice(model[current_char])\n",
    "        if next_char != \"$\":\n",
    "            word += [next_char[1]]\n",
    "            current_char = next_char\n",
    "        else:\n",
    "            break\n",
    "    return word[:-1]"
   ]
  },
  {
   "cell_type": "markdown",
   "id": "89444d38",
   "metadata": {},
   "source": [
    "We can now apply this function to create English words and potential pseudowords."
   ]
  },
  {
   "cell_type": "code",
   "execution_count": 6,
   "id": "ce3ba431",
   "metadata": {},
   "outputs": [
    {
     "name": "stdout",
     "output_type": "stream",
     "text": [
      "Word  1: s t ɪ ŋ\n",
      "Word  2: r uː m\n",
      "Word  3: d ɜː t\n",
      "Word  4: ɜː n\n",
      "Word  5: t r æ k\n",
      "Word  6: f ə k uː n\n",
      "Word  7: b æ k s l̩\n",
      "Word  8: f ʌ r ɪ dʒ p əʊ l d\n",
      "Word  9: t eɪ t\n",
      "Word 10: v ɔɪ s\n"
     ]
    }
   ],
   "source": [
    "for i in range(10):\n",
    "    word = walk(model)\n",
    "    print(\"Word {0:2}: {1}\".format(i+1, \" \".join(word)))"
   ]
  }
 ],
 "metadata": {
  "kernelspec": {
   "display_name": "Python 3 (ipykernel)",
   "language": "python",
   "name": "python3"
  },
  "language_info": {
   "codemirror_mode": {
    "name": "ipython",
    "version": 3
   },
   "file_extension": ".py",
   "mimetype": "text/x-python",
   "name": "python",
   "nbconvert_exporter": "python",
   "pygments_lexer": "ipython3",
   "version": "3.9.9"
  }
 },
 "nbformat": 4,
 "nbformat_minor": 5
}
